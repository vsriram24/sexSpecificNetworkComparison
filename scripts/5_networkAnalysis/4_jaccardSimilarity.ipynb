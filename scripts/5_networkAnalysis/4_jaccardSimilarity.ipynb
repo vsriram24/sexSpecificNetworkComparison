{
 "cells": [
  {
   "cell_type": "markdown",
   "metadata": {},
   "source": [
    "## Import statements"
   ]
  },
  {
   "cell_type": "code",
   "execution_count": null,
   "metadata": {},
   "outputs": [],
   "source": [
    "# Import required packages\n",
    "import pandas as pd\n",
    "import numpy as np\n",
    "import random\n",
    "import statistics\n",
    "from scipy.stats import ttest_1samp\n",
    "\n",
    "random.seed(123)"
   ]
  },
  {
   "cell_type": "markdown",
   "metadata": {},
   "source": [
    "## Functions"
   ]
  },
  {
   "cell_type": "code",
   "execution_count": 2,
   "metadata": {},
   "outputs": [],
   "source": [
    "# Calculate cosine similarities for each edge\n",
    "def calculate_cosine_similarity(row, magnitudes):\n",
    "    weight = row[\"Weight\"]\n",
    "    magnitude_1 = magnitudes[row[\"Source\"]]\n",
    "    magnitude_2 = magnitudes[row[\"Target\"]]\n",
    "    return weight / (magnitude_1 * magnitude_2)\n"
   ]
  },
  {
   "cell_type": "code",
   "execution_count": 3,
   "metadata": {},
   "outputs": [],
   "source": [
    "# Normalize edges to handle undirected graphs\n",
    "def normalize_edges(df):\n",
    "    df[\"Source\"], df[\"Target\"] = zip(*df[[\"Source\", \"Target\"]].apply(lambda x: sorted(x), axis=1))\n",
    "    return df"
   ]
  },
  {
   "cell_type": "code",
   "execution_count": 4,
   "metadata": {},
   "outputs": [],
   "source": [
    "def get_jaccard_index(col1, col2):\n",
    "    numerator = 0\n",
    "    denominator = 0\n",
    "    for i in range(len(col1)):\n",
    "        denominator += 1\n",
    "        if(col1[i] != 0 and col2[i]!= 0):\n",
    "            numerator += 1\n",
    "    \n",
    "    jaccard_similarity = numerator / denominator\n",
    "    print(f\"Unweighted Jaccard Similarity: {jaccard_similarity:.4f}\")\n",
    "    return (jaccard_similarity)"
   ]
  },
  {
   "cell_type": "code",
   "execution_count": 5,
   "metadata": {},
   "outputs": [],
   "source": [
    "def get_weighted_jaccard_index(col1, col2):\n",
    "    numerator = 0\n",
    "    denominator = 0\n",
    "    for i in range(len(col1)):\n",
    "        weight_diff = abs(col1[i]-col2[i])\n",
    "\n",
    "        denominator += weight_diff\n",
    "        if(col1[i] != 0 and col2[i]!= 0):\n",
    "            numerator += weight_diff\n",
    "    \n",
    "    jaccard_similarity = numerator / denominator\n",
    "    print(f\"Weighted Jaccard Similarity: {jaccard_similarity:.4f}\")\n",
    "    return (jaccard_similarity)"
   ]
  },
  {
   "cell_type": "code",
   "execution_count": 6,
   "metadata": {},
   "outputs": [],
   "source": [
    "def generate_random_edge_weights_exp(merged, prop_zeros, avg_val):\n",
    "    out = []\n",
    "\n",
    "    for i in range(0, len(merged)):\n",
    "        missingOrNot = random.random() < prop_zeros\n",
    "\n",
    "        if(missingOrNot):\n",
    "            out.append(0)\n",
    "        else:\n",
    "            x = np.random.exponential(avg_val)\n",
    "            if 0 <= x <= 1:\n",
    "                out.append(x)\n",
    "            else:\n",
    "                out.append(0)\n",
    "    \n",
    "    return out"
   ]
  },
  {
   "cell_type": "code",
   "execution_count": 7,
   "metadata": {},
   "outputs": [],
   "source": [
    "def generate_random_edge_weights_unif(merged, prop_zeros):\n",
    "    out = []\n",
    "\n",
    "    for i in range(0, len(merged)):\n",
    "        missingOrNot = random.random() < prop_zeros\n",
    "\n",
    "        if(missingOrNot):\n",
    "            out.append(0)\n",
    "        else:\n",
    "            out.append(random.random())\n",
    "    \n",
    "    return out"
   ]
  },
  {
   "cell_type": "markdown",
   "metadata": {},
   "source": [
    "## Run analysis"
   ]
  },
  {
   "cell_type": "code",
   "execution_count": 8,
   "metadata": {},
   "outputs": [],
   "source": [
    "# Import male and female networks\n",
    "f_file_path = \"/Users/vsriram/Desktop/GxS/ddnComp_personalComputer/ddnsForDDNComp/ssDDNneg4_femaleBlock_edgeMap.tsv\"\n",
    "f_edges_df = pd.read_csv(f_file_path, sep=\"\\t\").iloc[:, :3]\n",
    "f_edges_df['Weight'] = pd.to_numeric(f_edges_df['Weight'], errors='coerce')\n",
    "\n",
    "m_file_path = \"/Users/vsriram/Desktop/GxS/ddnComp_personalComputer/ddnsForDDNComp/ssDDNneg4_maleBlock_edgeMap.tsv\"\n",
    "m_edges_df = pd.read_csv(m_file_path, sep=\"\\t\").iloc[:, :3]\n",
    "m_edges_df['Weight'] = pd.to_numeric(m_edges_df['Weight'], errors='coerce')"
   ]
  },
  {
   "cell_type": "code",
   "execution_count": 9,
   "metadata": {},
   "outputs": [],
   "source": [
    "# Step 1: Compute node magnitudes\n",
    "node_weights_f = {}\n",
    "\n",
    "# Accumulate the square of weights for each node\n",
    "for _, row in f_edges_df.iterrows():\n",
    "    node_weights_f[row[\"Source\"]] = node_weights_f.get(row[\"Source\"], 0) + row[\"Weight\"]**2\n",
    "    node_weights_f[row[\"Target\"]] = node_weights_f.get(row[\"Target\"], 0) + row[\"Weight\"]**2\n",
    "\n",
    "# Take the square root to get magnitudes\n",
    "node_magnitudes_f = {node: np.sqrt(total) for node, total in node_weights_f.items()}\n"
   ]
  },
  {
   "cell_type": "code",
   "execution_count": 10,
   "metadata": {},
   "outputs": [],
   "source": [
    "# Step 1: Compute node magnitudes\n",
    "node_weights_m = {}\n",
    "\n",
    "# Accumulate the square of weights for each node\n",
    "for _, row in m_edges_df.iterrows():\n",
    "    node_weights_m[row[\"Source\"]] = node_weights_m.get(row[\"Source\"], 0) + row[\"Weight\"]**2\n",
    "    node_weights_m[row[\"Target\"]] = node_weights_m.get(row[\"Target\"], 0) + row[\"Weight\"]**2\n",
    "\n",
    "# Take the square root to get magnitudes\n",
    "node_magnitudes_m = {node: np.sqrt(total) for node, total in node_weights_m.items()}\n"
   ]
  },
  {
   "cell_type": "code",
   "execution_count": 11,
   "metadata": {},
   "outputs": [],
   "source": [
    "f_edges_df[\"CosineSimilarity\"] = f_edges_df.apply(\n",
    "    calculate_cosine_similarity, axis=1, magnitudes=node_magnitudes_f\n",
    ")"
   ]
  },
  {
   "cell_type": "code",
   "execution_count": 12,
   "metadata": {},
   "outputs": [],
   "source": [
    "m_edges_df[\"CosineSimilarity\"] = m_edges_df.apply(\n",
    "    calculate_cosine_similarity, axis=1, magnitudes=node_magnitudes_m\n",
    ")"
   ]
  },
  {
   "cell_type": "code",
   "execution_count": 13,
   "metadata": {},
   "outputs": [],
   "source": [
    "normalized_edges_f = normalize_edges(f_edges_df)\n",
    "normalized_edges_m = normalize_edges(m_edges_df)"
   ]
  },
  {
   "cell_type": "code",
   "execution_count": 14,
   "metadata": {},
   "outputs": [],
   "source": [
    "merged = pd.merge(\n",
    "    normalized_edges_f, \n",
    "    normalized_edges_m, \n",
    "    on=[\"Source\", \"Target\"], how=\"outer\", suffixes=(\"_F\", \"_M\")\n",
    ")"
   ]
  },
  {
   "cell_type": "code",
   "execution_count": 15,
   "metadata": {},
   "outputs": [],
   "source": [
    "# Step 3: Fill missing weights with 0\n",
    "merged[\"CosineSimilarity_F\"] = merged[\"CosineSimilarity_F\"].fillna(0)\n",
    "merged[\"CosineSimilarity_M\"] = merged[\"CosineSimilarity_M\"].fillna(0)"
   ]
  },
  {
   "cell_type": "code",
   "execution_count": 16,
   "metadata": {},
   "outputs": [],
   "source": [
    "# Step 4: Calculate min and max weights for each edge\n",
    "merged[\"WeightDiff\"] = abs(merged[\"CosineSimilarity_F\"]-merged[\"CosineSimilarity_M\"])"
   ]
  },
  {
   "cell_type": "code",
   "execution_count": 17,
   "metadata": {},
   "outputs": [],
   "source": [
    "rand_edge_weights_f_exp = generate_random_edge_weights_exp(\n",
    "    merged,\n",
    "    merged['CosineSimilarity_F'].value_counts().get(0, 0)/len(merged), \n",
    "    np.mean(merged['CosineSimilarity_F'])\n",
    ")\n",
    "\n",
    "rand_edge_weights_m_exp = generate_random_edge_weights_exp(\n",
    "    merged,\n",
    "    merged['CosineSimilarity_M'].value_counts().get(0, 0)/len(merged), \n",
    "    np.mean(merged['CosineSimilarity_M'])\n",
    ")"
   ]
  },
  {
   "cell_type": "code",
   "execution_count": 18,
   "metadata": {},
   "outputs": [],
   "source": [
    "rand_edge_weights_f_unif = generate_random_edge_weights_unif(\n",
    "    merged,\n",
    "    merged['CosineSimilarity_F'].value_counts().get(0, 0)/len(merged), \n",
    ")\n",
    "\n",
    "rand_edge_weights_m_unif = generate_random_edge_weights_unif(\n",
    "    merged,\n",
    "    merged['CosineSimilarity_M'].value_counts().get(0, 0)/len(merged), \n",
    ")"
   ]
  },
  {
   "cell_type": "code",
   "execution_count": 19,
   "metadata": {},
   "outputs": [
    {
     "name": "stdout",
     "output_type": "stream",
     "text": [
      "Weighted Jaccard Similarity: 0.0584\n"
     ]
    },
    {
     "data": {
      "text/plain": [
       "0.058381935697765314"
      ]
     },
     "execution_count": 19,
     "metadata": {},
     "output_type": "execute_result"
    }
   ],
   "source": [
    "get_weighted_jaccard_index(merged['CosineSimilarity_F'], merged['CosineSimilarity_M'])"
   ]
  },
  {
   "cell_type": "code",
   "execution_count": 20,
   "metadata": {},
   "outputs": [
    {
     "name": "stdout",
     "output_type": "stream",
     "text": [
      "Unweighted Jaccard Similarity: 0.2639\n"
     ]
    },
    {
     "data": {
      "text/plain": [
       "0.2638888888888889"
      ]
     },
     "execution_count": 20,
     "metadata": {},
     "output_type": "execute_result"
    }
   ],
   "source": [
    "get_jaccard_index(merged['CosineSimilarity_F'], merged['CosineSimilarity_M'])"
   ]
  },
  {
   "cell_type": "code",
   "execution_count": 21,
   "metadata": {},
   "outputs": [
    {
     "name": "stdout",
     "output_type": "stream",
     "text": [
      "Weighted Jaccard Similarity: 0.5199\n",
      "Weighted Jaccard Similarity: 0.3849\n",
      "Unweighted Jaccard Similarity: 0.4226\n",
      "Unweighted Jaccard Similarity: 0.4038\n",
      "Weighted Jaccard Similarity: 0.4611\n",
      "Weighted Jaccard Similarity: 0.3297\n",
      "Unweighted Jaccard Similarity: 0.3700\n",
      "Unweighted Jaccard Similarity: 0.3750\n",
      "Weighted Jaccard Similarity: 0.5301\n",
      "Weighted Jaccard Similarity: 0.3778\n",
      "Unweighted Jaccard Similarity: 0.4067\n",
      "Unweighted Jaccard Similarity: 0.4157\n",
      "Weighted Jaccard Similarity: 0.5103\n",
      "Weighted Jaccard Similarity: 0.3501\n",
      "Unweighted Jaccard Similarity: 0.4058\n",
      "Unweighted Jaccard Similarity: 0.3889\n",
      "Weighted Jaccard Similarity: 0.5231\n",
      "Weighted Jaccard Similarity: 0.3946\n",
      "Unweighted Jaccard Similarity: 0.4067\n",
      "Unweighted Jaccard Similarity: 0.4018\n",
      "Weighted Jaccard Similarity: 0.4739\n",
      "Weighted Jaccard Similarity: 0.3460\n",
      "Unweighted Jaccard Similarity: 0.4157\n",
      "Unweighted Jaccard Similarity: 0.3889\n",
      "Weighted Jaccard Similarity: 0.4777\n",
      "Weighted Jaccard Similarity: 0.3715\n",
      "Unweighted Jaccard Similarity: 0.3690\n",
      "Unweighted Jaccard Similarity: 0.4187\n",
      "Weighted Jaccard Similarity: 0.4808\n",
      "Weighted Jaccard Similarity: 0.3318\n",
      "Unweighted Jaccard Similarity: 0.3681\n",
      "Unweighted Jaccard Similarity: 0.3700\n",
      "Weighted Jaccard Similarity: 0.5275\n",
      "Weighted Jaccard Similarity: 0.3620\n",
      "Unweighted Jaccard Similarity: 0.4256\n",
      "Unweighted Jaccard Similarity: 0.3948\n",
      "Weighted Jaccard Similarity: 0.5175\n",
      "Weighted Jaccard Similarity: 0.3959\n",
      "Unweighted Jaccard Similarity: 0.3929\n",
      "Unweighted Jaccard Similarity: 0.4077\n",
      "Weighted Jaccard Similarity: 0.5034\n",
      "Weighted Jaccard Similarity: 0.3602\n",
      "Unweighted Jaccard Similarity: 0.3829\n",
      "Unweighted Jaccard Similarity: 0.3899\n",
      "Weighted Jaccard Similarity: 0.5203\n",
      "Weighted Jaccard Similarity: 0.3709\n",
      "Unweighted Jaccard Similarity: 0.3998\n",
      "Unweighted Jaccard Similarity: 0.4107\n",
      "Weighted Jaccard Similarity: 0.4886\n",
      "Weighted Jaccard Similarity: 0.3865\n",
      "Unweighted Jaccard Similarity: 0.3849\n",
      "Unweighted Jaccard Similarity: 0.4256\n",
      "Weighted Jaccard Similarity: 0.5185\n",
      "Weighted Jaccard Similarity: 0.3753\n",
      "Unweighted Jaccard Similarity: 0.4018\n",
      "Unweighted Jaccard Similarity: 0.4157\n",
      "Weighted Jaccard Similarity: 0.5491\n",
      "Weighted Jaccard Similarity: 0.3801\n",
      "Unweighted Jaccard Similarity: 0.4117\n",
      "Unweighted Jaccard Similarity: 0.4107\n",
      "Weighted Jaccard Similarity: 0.4763\n",
      "Weighted Jaccard Similarity: 0.3992\n",
      "Unweighted Jaccard Similarity: 0.3859\n",
      "Unweighted Jaccard Similarity: 0.4266\n",
      "Weighted Jaccard Similarity: 0.5244\n",
      "Weighted Jaccard Similarity: 0.3518\n",
      "Unweighted Jaccard Similarity: 0.4018\n",
      "Unweighted Jaccard Similarity: 0.3859\n",
      "Weighted Jaccard Similarity: 0.4607\n",
      "Weighted Jaccard Similarity: 0.3931\n",
      "Unweighted Jaccard Similarity: 0.3889\n",
      "Unweighted Jaccard Similarity: 0.4147\n",
      "Weighted Jaccard Similarity: 0.4997\n",
      "Weighted Jaccard Similarity: 0.3825\n",
      "Unweighted Jaccard Similarity: 0.4187\n",
      "Unweighted Jaccard Similarity: 0.3909\n",
      "Weighted Jaccard Similarity: 0.5066\n",
      "Weighted Jaccard Similarity: 0.3503\n",
      "Unweighted Jaccard Similarity: 0.3958\n",
      "Unweighted Jaccard Similarity: 0.4077\n",
      "Weighted Jaccard Similarity: 0.5025\n",
      "Weighted Jaccard Similarity: 0.3920\n",
      "Unweighted Jaccard Similarity: 0.3869\n",
      "Unweighted Jaccard Similarity: 0.4296\n",
      "Weighted Jaccard Similarity: 0.4778\n",
      "Weighted Jaccard Similarity: 0.3517\n",
      "Unweighted Jaccard Similarity: 0.3869\n",
      "Unweighted Jaccard Similarity: 0.3760\n",
      "Weighted Jaccard Similarity: 0.5050\n",
      "Weighted Jaccard Similarity: 0.3974\n",
      "Unweighted Jaccard Similarity: 0.4077\n",
      "Unweighted Jaccard Similarity: 0.4196\n",
      "Weighted Jaccard Similarity: 0.4936\n",
      "Weighted Jaccard Similarity: 0.3648\n",
      "Unweighted Jaccard Similarity: 0.3859\n",
      "Unweighted Jaccard Similarity: 0.4077\n",
      "Weighted Jaccard Similarity: 0.5179\n",
      "Weighted Jaccard Similarity: 0.3942\n",
      "Unweighted Jaccard Similarity: 0.3988\n",
      "Unweighted Jaccard Similarity: 0.4147\n",
      "Weighted Jaccard Similarity: 0.5114\n",
      "Weighted Jaccard Similarity: 0.3890\n",
      "Unweighted Jaccard Similarity: 0.4137\n",
      "Unweighted Jaccard Similarity: 0.4206\n",
      "Weighted Jaccard Similarity: 0.5091\n",
      "Weighted Jaccard Similarity: 0.3608\n",
      "Unweighted Jaccard Similarity: 0.3690\n",
      "Unweighted Jaccard Similarity: 0.3909\n",
      "Weighted Jaccard Similarity: 0.4843\n",
      "Weighted Jaccard Similarity: 0.3528\n",
      "Unweighted Jaccard Similarity: 0.3671\n",
      "Unweighted Jaccard Similarity: 0.3958\n",
      "Weighted Jaccard Similarity: 0.4855\n",
      "Weighted Jaccard Similarity: 0.3586\n",
      "Unweighted Jaccard Similarity: 0.3859\n",
      "Unweighted Jaccard Similarity: 0.3859\n",
      "Weighted Jaccard Similarity: 0.5019\n",
      "Weighted Jaccard Similarity: 0.3797\n",
      "Unweighted Jaccard Similarity: 0.4097\n",
      "Unweighted Jaccard Similarity: 0.4018\n",
      "Weighted Jaccard Similarity: 0.4715\n",
      "Weighted Jaccard Similarity: 0.3685\n",
      "Unweighted Jaccard Similarity: 0.3819\n",
      "Unweighted Jaccard Similarity: 0.4008\n",
      "Weighted Jaccard Similarity: 0.5194\n",
      "Weighted Jaccard Similarity: 0.3890\n",
      "Unweighted Jaccard Similarity: 0.4236\n",
      "Unweighted Jaccard Similarity: 0.4117\n",
      "Weighted Jaccard Similarity: 0.4958\n",
      "Weighted Jaccard Similarity: 0.3916\n",
      "Unweighted Jaccard Similarity: 0.3958\n",
      "Unweighted Jaccard Similarity: 0.4127\n",
      "Weighted Jaccard Similarity: 0.5166\n",
      "Weighted Jaccard Similarity: 0.3497\n",
      "Unweighted Jaccard Similarity: 0.4087\n",
      "Unweighted Jaccard Similarity: 0.3819\n",
      "Weighted Jaccard Similarity: 0.4743\n",
      "Weighted Jaccard Similarity: 0.3731\n",
      "Unweighted Jaccard Similarity: 0.3968\n",
      "Unweighted Jaccard Similarity: 0.4038\n",
      "Weighted Jaccard Similarity: 0.5078\n",
      "Weighted Jaccard Similarity: 0.3749\n",
      "Unweighted Jaccard Similarity: 0.3849\n",
      "Unweighted Jaccard Similarity: 0.4058\n",
      "Weighted Jaccard Similarity: 0.5075\n",
      "Weighted Jaccard Similarity: 0.3667\n",
      "Unweighted Jaccard Similarity: 0.3968\n",
      "Unweighted Jaccard Similarity: 0.4008\n",
      "Weighted Jaccard Similarity: 0.4934\n",
      "Weighted Jaccard Similarity: 0.3371\n",
      "Unweighted Jaccard Similarity: 0.3889\n",
      "Unweighted Jaccard Similarity: 0.3800\n",
      "Weighted Jaccard Similarity: 0.4899\n",
      "Weighted Jaccard Similarity: 0.4074\n",
      "Unweighted Jaccard Similarity: 0.3988\n",
      "Unweighted Jaccard Similarity: 0.4286\n",
      "Weighted Jaccard Similarity: 0.4729\n",
      "Weighted Jaccard Similarity: 0.3869\n",
      "Unweighted Jaccard Similarity: 0.4067\n",
      "Unweighted Jaccard Similarity: 0.4107\n",
      "Weighted Jaccard Similarity: 0.5329\n",
      "Weighted Jaccard Similarity: 0.3562\n",
      "Unweighted Jaccard Similarity: 0.3899\n",
      "Unweighted Jaccard Similarity: 0.3938\n",
      "Weighted Jaccard Similarity: 0.4635\n",
      "Weighted Jaccard Similarity: 0.3780\n",
      "Unweighted Jaccard Similarity: 0.3780\n",
      "Unweighted Jaccard Similarity: 0.4097\n",
      "Weighted Jaccard Similarity: 0.5503\n",
      "Weighted Jaccard Similarity: 0.3416\n",
      "Unweighted Jaccard Similarity: 0.4296\n",
      "Unweighted Jaccard Similarity: 0.3810\n",
      "Weighted Jaccard Similarity: 0.5182\n",
      "Weighted Jaccard Similarity: 0.3914\n",
      "Unweighted Jaccard Similarity: 0.4008\n",
      "Unweighted Jaccard Similarity: 0.4196\n",
      "Weighted Jaccard Similarity: 0.5220\n",
      "Weighted Jaccard Similarity: 0.3397\n",
      "Unweighted Jaccard Similarity: 0.4187\n",
      "Unweighted Jaccard Similarity: 0.3810\n",
      "Weighted Jaccard Similarity: 0.4900\n",
      "Weighted Jaccard Similarity: 0.3630\n",
      "Unweighted Jaccard Similarity: 0.3770\n",
      "Unweighted Jaccard Similarity: 0.3889\n",
      "Weighted Jaccard Similarity: 0.5208\n",
      "Weighted Jaccard Similarity: 0.3624\n",
      "Unweighted Jaccard Similarity: 0.4018\n",
      "Unweighted Jaccard Similarity: 0.3889\n",
      "Weighted Jaccard Similarity: 0.4712\n",
      "Weighted Jaccard Similarity: 0.3384\n",
      "Unweighted Jaccard Similarity: 0.3958\n",
      "Unweighted Jaccard Similarity: 0.3631\n",
      "Weighted Jaccard Similarity: 0.4970\n",
      "Weighted Jaccard Similarity: 0.3844\n",
      "Unweighted Jaccard Similarity: 0.4048\n",
      "Unweighted Jaccard Similarity: 0.4087\n",
      "Weighted Jaccard Similarity: 0.5257\n",
      "Weighted Jaccard Similarity: 0.3919\n",
      "Unweighted Jaccard Similarity: 0.4038\n",
      "Unweighted Jaccard Similarity: 0.3938\n",
      "Weighted Jaccard Similarity: 0.4868\n",
      "Weighted Jaccard Similarity: 0.3964\n",
      "Unweighted Jaccard Similarity: 0.3790\n",
      "Unweighted Jaccard Similarity: 0.4325\n",
      "Weighted Jaccard Similarity: 0.5150\n",
      "Weighted Jaccard Similarity: 0.3731\n",
      "Unweighted Jaccard Similarity: 0.4038\n",
      "Unweighted Jaccard Similarity: 0.3948\n",
      "Weighted Jaccard Similarity: 0.5279\n",
      "Weighted Jaccard Similarity: 0.3739\n",
      "Unweighted Jaccard Similarity: 0.4058\n",
      "Unweighted Jaccard Similarity: 0.4048\n",
      "Weighted Jaccard Similarity: 0.5206\n",
      "Weighted Jaccard Similarity: 0.3783\n",
      "Unweighted Jaccard Similarity: 0.4028\n",
      "Unweighted Jaccard Similarity: 0.3998\n",
      "Weighted Jaccard Similarity: 0.4544\n",
      "Weighted Jaccard Similarity: 0.3696\n",
      "Unweighted Jaccard Similarity: 0.3849\n",
      "Unweighted Jaccard Similarity: 0.4028\n",
      "Weighted Jaccard Similarity: 0.5121\n",
      "Weighted Jaccard Similarity: 0.3820\n",
      "Unweighted Jaccard Similarity: 0.3958\n",
      "Unweighted Jaccard Similarity: 0.3948\n",
      "Weighted Jaccard Similarity: 0.5336\n",
      "Weighted Jaccard Similarity: 0.3784\n",
      "Unweighted Jaccard Similarity: 0.4117\n",
      "Unweighted Jaccard Similarity: 0.4226\n",
      "Weighted Jaccard Similarity: 0.5244\n",
      "Weighted Jaccard Similarity: 0.3666\n",
      "Unweighted Jaccard Similarity: 0.4127\n",
      "Unweighted Jaccard Similarity: 0.4038\n",
      "Weighted Jaccard Similarity: 0.5067\n",
      "Weighted Jaccard Similarity: 0.3703\n",
      "Unweighted Jaccard Similarity: 0.4018\n",
      "Unweighted Jaccard Similarity: 0.4018\n",
      "Weighted Jaccard Similarity: 0.5179\n",
      "Weighted Jaccard Similarity: 0.3595\n",
      "Unweighted Jaccard Similarity: 0.3859\n",
      "Unweighted Jaccard Similarity: 0.3988\n",
      "Weighted Jaccard Similarity: 0.4945\n",
      "Weighted Jaccard Similarity: 0.3505\n",
      "Unweighted Jaccard Similarity: 0.3819\n",
      "Unweighted Jaccard Similarity: 0.3889\n",
      "Weighted Jaccard Similarity: 0.5121\n",
      "Weighted Jaccard Similarity: 0.3132\n",
      "Unweighted Jaccard Similarity: 0.4157\n",
      "Unweighted Jaccard Similarity: 0.3591\n",
      "Weighted Jaccard Similarity: 0.4643\n",
      "Weighted Jaccard Similarity: 0.3601\n",
      "Unweighted Jaccard Similarity: 0.3790\n",
      "Unweighted Jaccard Similarity: 0.3978\n",
      "Weighted Jaccard Similarity: 0.5140\n",
      "Weighted Jaccard Similarity: 0.3388\n",
      "Unweighted Jaccard Similarity: 0.3948\n",
      "Unweighted Jaccard Similarity: 0.3869\n",
      "Weighted Jaccard Similarity: 0.4590\n",
      "Weighted Jaccard Similarity: 0.3545\n",
      "Unweighted Jaccard Similarity: 0.3919\n",
      "Unweighted Jaccard Similarity: 0.3879\n",
      "Weighted Jaccard Similarity: 0.5048\n",
      "Weighted Jaccard Similarity: 0.3551\n",
      "Unweighted Jaccard Similarity: 0.4127\n",
      "Unweighted Jaccard Similarity: 0.4018\n",
      "Weighted Jaccard Similarity: 0.4615\n",
      "Weighted Jaccard Similarity: 0.3424\n",
      "Unweighted Jaccard Similarity: 0.3958\n",
      "Unweighted Jaccard Similarity: 0.3710\n",
      "Weighted Jaccard Similarity: 0.5383\n",
      "Weighted Jaccard Similarity: 0.3836\n",
      "Unweighted Jaccard Similarity: 0.4048\n",
      "Unweighted Jaccard Similarity: 0.4077\n",
      "Weighted Jaccard Similarity: 0.5009\n",
      "Weighted Jaccard Similarity: 0.3506\n",
      "Unweighted Jaccard Similarity: 0.4077\n",
      "Unweighted Jaccard Similarity: 0.3681\n",
      "Weighted Jaccard Similarity: 0.5238\n",
      "Weighted Jaccard Similarity: 0.3839\n",
      "Unweighted Jaccard Similarity: 0.4137\n",
      "Unweighted Jaccard Similarity: 0.4177\n",
      "Weighted Jaccard Similarity: 0.5095\n",
      "Weighted Jaccard Similarity: 0.3537\n",
      "Unweighted Jaccard Similarity: 0.4077\n",
      "Unweighted Jaccard Similarity: 0.4008\n",
      "Weighted Jaccard Similarity: 0.4653\n",
      "Weighted Jaccard Similarity: 0.3562\n",
      "Unweighted Jaccard Similarity: 0.3889\n",
      "Unweighted Jaccard Similarity: 0.3929\n",
      "Weighted Jaccard Similarity: 0.5204\n",
      "Weighted Jaccard Similarity: 0.3490\n",
      "Unweighted Jaccard Similarity: 0.3958\n",
      "Unweighted Jaccard Similarity: 0.3740\n",
      "Weighted Jaccard Similarity: 0.5017\n",
      "Weighted Jaccard Similarity: 0.3541\n",
      "Unweighted Jaccard Similarity: 0.4087\n",
      "Unweighted Jaccard Similarity: 0.4008\n",
      "Weighted Jaccard Similarity: 0.5227\n",
      "Weighted Jaccard Similarity: 0.3590\n",
      "Unweighted Jaccard Similarity: 0.3998\n",
      "Unweighted Jaccard Similarity: 0.3869\n",
      "Weighted Jaccard Similarity: 0.5108\n",
      "Weighted Jaccard Similarity: 0.3494\n",
      "Unweighted Jaccard Similarity: 0.4048\n",
      "Unweighted Jaccard Similarity: 0.3671\n",
      "Weighted Jaccard Similarity: 0.5126\n",
      "Weighted Jaccard Similarity: 0.3872\n",
      "Unweighted Jaccard Similarity: 0.3968\n",
      "Unweighted Jaccard Similarity: 0.4196\n",
      "Weighted Jaccard Similarity: 0.4801\n",
      "Weighted Jaccard Similarity: 0.3786\n",
      "Unweighted Jaccard Similarity: 0.3740\n",
      "Unweighted Jaccard Similarity: 0.4067\n",
      "Weighted Jaccard Similarity: 0.5102\n",
      "Weighted Jaccard Similarity: 0.3619\n",
      "Unweighted Jaccard Similarity: 0.4018\n",
      "Unweighted Jaccard Similarity: 0.3988\n",
      "Weighted Jaccard Similarity: 0.5041\n",
      "Weighted Jaccard Similarity: 0.3923\n",
      "Unweighted Jaccard Similarity: 0.4038\n",
      "Unweighted Jaccard Similarity: 0.4127\n",
      "Weighted Jaccard Similarity: 0.5353\n",
      "Weighted Jaccard Similarity: 0.3837\n",
      "Unweighted Jaccard Similarity: 0.3998\n",
      "Unweighted Jaccard Similarity: 0.4097\n",
      "Weighted Jaccard Similarity: 0.4933\n",
      "Weighted Jaccard Similarity: 0.3688\n",
      "Unweighted Jaccard Similarity: 0.3988\n",
      "Unweighted Jaccard Similarity: 0.4315\n",
      "Weighted Jaccard Similarity: 0.4776\n",
      "Weighted Jaccard Similarity: 0.3813\n",
      "Unweighted Jaccard Similarity: 0.4018\n",
      "Unweighted Jaccard Similarity: 0.4266\n",
      "Weighted Jaccard Similarity: 0.5521\n",
      "Weighted Jaccard Similarity: 0.3649\n",
      "Unweighted Jaccard Similarity: 0.4206\n",
      "Unweighted Jaccard Similarity: 0.3889\n",
      "Weighted Jaccard Similarity: 0.4885\n",
      "Weighted Jaccard Similarity: 0.3692\n",
      "Unweighted Jaccard Similarity: 0.4038\n",
      "Unweighted Jaccard Similarity: 0.4058\n",
      "Weighted Jaccard Similarity: 0.4859\n",
      "Weighted Jaccard Similarity: 0.3561\n",
      "Unweighted Jaccard Similarity: 0.3919\n",
      "Unweighted Jaccard Similarity: 0.4107\n",
      "Weighted Jaccard Similarity: 0.5087\n",
      "Weighted Jaccard Similarity: 0.3553\n",
      "Unweighted Jaccard Similarity: 0.3968\n",
      "Unweighted Jaccard Similarity: 0.4008\n",
      "Weighted Jaccard Similarity: 0.5532\n",
      "Weighted Jaccard Similarity: 0.3591\n",
      "Unweighted Jaccard Similarity: 0.4226\n",
      "Unweighted Jaccard Similarity: 0.3869\n",
      "Weighted Jaccard Similarity: 0.5048\n",
      "Weighted Jaccard Similarity: 0.3878\n",
      "Unweighted Jaccard Similarity: 0.3998\n",
      "Unweighted Jaccard Similarity: 0.4196\n",
      "Weighted Jaccard Similarity: 0.5308\n",
      "Weighted Jaccard Similarity: 0.3634\n",
      "Unweighted Jaccard Similarity: 0.4137\n",
      "Unweighted Jaccard Similarity: 0.3938\n",
      "Weighted Jaccard Similarity: 0.4844\n",
      "Weighted Jaccard Similarity: 0.3546\n",
      "Unweighted Jaccard Similarity: 0.3730\n",
      "Unweighted Jaccard Similarity: 0.3988\n",
      "Weighted Jaccard Similarity: 0.5182\n",
      "Weighted Jaccard Similarity: 0.3503\n",
      "Unweighted Jaccard Similarity: 0.4058\n",
      "Unweighted Jaccard Similarity: 0.3849\n",
      "Weighted Jaccard Similarity: 0.4868\n",
      "Weighted Jaccard Similarity: 0.3568\n",
      "Unweighted Jaccard Similarity: 0.3859\n",
      "Unweighted Jaccard Similarity: 0.4127\n",
      "Weighted Jaccard Similarity: 0.4989\n",
      "Weighted Jaccard Similarity: 0.3479\n",
      "Unweighted Jaccard Similarity: 0.3849\n",
      "Unweighted Jaccard Similarity: 0.3919\n",
      "Weighted Jaccard Similarity: 0.5087\n",
      "Weighted Jaccard Similarity: 0.3542\n",
      "Unweighted Jaccard Similarity: 0.4127\n",
      "Unweighted Jaccard Similarity: 0.3800\n",
      "Weighted Jaccard Similarity: 0.5071\n",
      "Weighted Jaccard Similarity: 0.3591\n",
      "Unweighted Jaccard Similarity: 0.4038\n",
      "Unweighted Jaccard Similarity: 0.4018\n",
      "Weighted Jaccard Similarity: 0.4652\n",
      "Weighted Jaccard Similarity: 0.3745\n",
      "Unweighted Jaccard Similarity: 0.3948\n",
      "Unweighted Jaccard Similarity: 0.3958\n",
      "Weighted Jaccard Similarity: 0.4806\n",
      "Weighted Jaccard Similarity: 0.3218\n",
      "Unweighted Jaccard Similarity: 0.3889\n",
      "Unweighted Jaccard Similarity: 0.3591\n",
      "Weighted Jaccard Similarity: 0.4705\n",
      "Weighted Jaccard Similarity: 0.3921\n",
      "Unweighted Jaccard Similarity: 0.3700\n",
      "Unweighted Jaccard Similarity: 0.4157\n",
      "Weighted Jaccard Similarity: 0.5261\n",
      "Weighted Jaccard Similarity: 0.3891\n",
      "Unweighted Jaccard Similarity: 0.3948\n",
      "Unweighted Jaccard Similarity: 0.4286\n"
     ]
    }
   ],
   "source": [
    "weighted_jaccards_exp = []\n",
    "weighted_jaccards_unif = []\n",
    "unweighted_jaccards_exp = []\n",
    "unweighted_jaccards_unif = []\n",
    "\n",
    "for i in range(100):\n",
    "    rand_edge_weights_g1_exp = generate_random_edge_weights_exp(\n",
    "        merged,\n",
    "        merged['CosineSimilarity_F'].value_counts().get(0, 0)/len(merged), \n",
    "        np.mean(merged['CosineSimilarity_F'])\n",
    "    )\n",
    "\n",
    "    rand_edge_weights_g2_exp = generate_random_edge_weights_exp(\n",
    "        merged,\n",
    "        merged['CosineSimilarity_M'].value_counts().get(0, 0)/len(merged), \n",
    "        np.mean(merged['CosineSimilarity_M'])\n",
    "    )\n",
    "\n",
    "    rand_edge_weights_g1_unif = generate_random_edge_weights_unif(\n",
    "        merged,\n",
    "        merged['CosineSimilarity_F'].value_counts().get(0, 0)/len(merged), \n",
    "    )\n",
    "\n",
    "    rand_edge_weights_g2_unif = generate_random_edge_weights_unif(\n",
    "        merged,\n",
    "        merged['CosineSimilarity_M'].value_counts().get(0, 0)/len(merged), \n",
    "    )\n",
    "\n",
    "    weighted_jaccard_exp = get_weighted_jaccard_index(rand_edge_weights_g1_exp, rand_edge_weights_g2_exp)\n",
    "    weighted_jaccards_exp.append(weighted_jaccard_exp)\n",
    "\n",
    "    weighted_jaccard_unif = get_weighted_jaccard_index(rand_edge_weights_g1_unif, rand_edge_weights_g2_unif)\n",
    "    weighted_jaccards_unif.append(weighted_jaccard_unif)\n",
    "\n",
    "    unweighted_jaccard_exp = get_jaccard_index(rand_edge_weights_g1_exp, rand_edge_weights_g2_exp)\n",
    "    unweighted_jaccards_exp.append(unweighted_jaccard_exp)\n",
    "\n",
    "    unweighted_jaccard_unif = get_jaccard_index(rand_edge_weights_g1_unif, rand_edge_weights_g2_unif)\n",
    "    unweighted_jaccards_unif.append(unweighted_jaccard_unif)\n"
   ]
  },
  {
   "cell_type": "code",
   "execution_count": 28,
   "metadata": {},
   "outputs": [
    {
     "data": {
      "text/plain": [
       "0.36739092870587725"
      ]
     },
     "execution_count": 28,
     "metadata": {},
     "output_type": "execute_result"
    }
   ],
   "source": [
    "np.mean(weighted_jaccards_unif)\n"
   ]
  },
  {
   "cell_type": "code",
   "execution_count": 29,
   "metadata": {},
   "outputs": [
    {
     "data": {
      "text/plain": [
       "0.0188933994804983"
      ]
     },
     "execution_count": 29,
     "metadata": {},
     "output_type": "execute_result"
    }
   ],
   "source": [
    "np.std(weighted_jaccards_unif)"
   ]
  },
  {
   "cell_type": "code",
   "execution_count": 28,
   "metadata": {},
   "outputs": [],
   "source": [
    "# Function to perform a t-test; is the difference between the male and female network\n",
    "#  significantly different from differences in a random population?\n",
    "def perform_statistical_analysis(original_value, random_values):\n",
    "    t_stat, p_value = ttest_1samp(random_values, original_value)\n",
    "    \n",
    "    return {\n",
    "        \"Jaccard Index\": original_value,\n",
    "        \"t_stat\": t_stat,\n",
    "        \"p_value\": p_value,\n",
    "    }"
   ]
  },
  {
   "cell_type": "code",
   "execution_count": 29,
   "metadata": {},
   "outputs": [
    {
     "name": "stdout",
     "output_type": "stream",
     "text": [
      "Weighted Jaccard Similarity: 0.0584\n"
     ]
    },
    {
     "data": {
      "text/plain": [
       "{'Jaccard Index': 0.058381935697765314,\n",
       " 't_stat': 171.10498503401428,\n",
       " 'p_value': 3.327448288146901e-124}"
      ]
     },
     "execution_count": 29,
     "metadata": {},
     "output_type": "execute_result"
    }
   ],
   "source": [
    "perform_statistical_analysis(\n",
    "    get_weighted_jaccard_index(merged['CosineSimilarity_F'], merged['CosineSimilarity_M']),\n",
    "    weighted_jaccards_exp\n",
    ")"
   ]
  },
  {
   "cell_type": "code",
   "execution_count": 30,
   "metadata": {},
   "outputs": [
    {
     "name": "stdout",
     "output_type": "stream",
     "text": [
      "Weighted Jaccard Similarity: 0.0584\n"
     ]
    },
    {
     "data": {
      "text/plain": [
       "{'Jaccard Index': 0.058381935697765314,\n",
       " 't_stat': 162.7341158553271,\n",
       " 'p_value': 4.689910711150324e-122}"
      ]
     },
     "execution_count": 30,
     "metadata": {},
     "output_type": "execute_result"
    }
   ],
   "source": [
    "perform_statistical_analysis(\n",
    "    get_weighted_jaccard_index(merged['CosineSimilarity_F'], merged['CosineSimilarity_M']),\n",
    "    weighted_jaccards_unif\n",
    ")"
   ]
  },
  {
   "cell_type": "code",
   "execution_count": 31,
   "metadata": {},
   "outputs": [
    {
     "name": "stdout",
     "output_type": "stream",
     "text": [
      "Unweighted Jaccard Similarity: 0.2639\n"
     ]
    },
    {
     "data": {
      "text/plain": [
       "{'Jaccard Index': 0.2638888888888889,\n",
       " 't_stat': 94.92443577413574,\n",
       " 'p_value': 4.942688807593054e-99}"
      ]
     },
     "execution_count": 31,
     "metadata": {},
     "output_type": "execute_result"
    }
   ],
   "source": [
    "perform_statistical_analysis(\n",
    "    get_jaccard_index(merged['CosineSimilarity_F'], merged['CosineSimilarity_M']),\n",
    "    unweighted_jaccards_exp\n",
    ")"
   ]
  },
  {
   "cell_type": "code",
   "execution_count": 32,
   "metadata": {},
   "outputs": [
    {
     "name": "stdout",
     "output_type": "stream",
     "text": [
      "Unweighted Jaccard Similarity: 0.2639\n"
     ]
    },
    {
     "data": {
      "text/plain": [
       "{'Jaccard Index': 0.2638888888888889,\n",
       " 't_stat': 81.43424299605815,\n",
       " 'p_value': 1.5909772451429588e-92}"
      ]
     },
     "execution_count": 32,
     "metadata": {},
     "output_type": "execute_result"
    }
   ],
   "source": [
    "perform_statistical_analysis(\n",
    "    get_jaccard_index(merged['CosineSimilarity_F'], merged['CosineSimilarity_M']),\n",
    "    unweighted_jaccards_unif\n",
    ")"
   ]
  }
 ],
 "metadata": {
  "kernelspec": {
   "display_name": "Python 3",
   "language": "python",
   "name": "python3"
  },
  "language_info": {
   "codemirror_mode": {
    "name": "ipython",
    "version": 3
   },
   "file_extension": ".py",
   "mimetype": "text/x-python",
   "name": "python",
   "nbconvert_exporter": "python",
   "pygments_lexer": "ipython3",
   "version": "3.12.3"
  }
 },
 "nbformat": 4,
 "nbformat_minor": 4
}
