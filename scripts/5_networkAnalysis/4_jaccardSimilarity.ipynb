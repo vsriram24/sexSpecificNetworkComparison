{
 "cells": [
  {
   "cell_type": "markdown",
   "metadata": {},
   "source": [
    "## Import statements"
   ]
  },
  {
   "cell_type": "code",
   "execution_count": 1,
   "metadata": {},
   "outputs": [],
   "source": [
    "# Import required packages\n",
    "import pandas as pd\n",
    "import numpy as np\n",
    "import random\n",
    "import statistics\n",
    "from scipy.stats import ttest_1samp\n",
    "\n",
    "random.seed(123)"
   ]
  },
  {
   "cell_type": "markdown",
   "metadata": {},
   "source": [
    "## Functions"
   ]
  },
  {
   "cell_type": "code",
   "execution_count": 2,
   "metadata": {},
   "outputs": [],
   "source": [
    "# Calculate cosine similarities for each edge\n",
    "def calculate_cosine_similarity(row, magnitudes):\n",
    "    weight = row[\"Weight\"]\n",
    "    magnitude_1 = magnitudes[row[\"Source\"]]\n",
    "    magnitude_2 = magnitudes[row[\"Target\"]]\n",
    "    return weight / (magnitude_1 * magnitude_2)\n"
   ]
  },
  {
   "cell_type": "code",
   "execution_count": 3,
   "metadata": {},
   "outputs": [],
   "source": [
    "# Normalize edges to handle undirected graphs\n",
    "def normalize_edges(df):\n",
    "    df[\"Source\"], df[\"Target\"] = zip(*df[[\"Source\", \"Target\"]].apply(lambda x: sorted(x), axis=1))\n",
    "    return df"
   ]
  },
  {
   "cell_type": "code",
   "execution_count": 4,
   "metadata": {},
   "outputs": [],
   "source": [
    "def get_jaccard_index(col1, col2):\n",
    "    numerator = 0\n",
    "    denominator = 0\n",
    "    for i in range(len(col1)):\n",
    "        denominator += 1\n",
    "        if(col1[i] != 0 and col2[i]!= 0):\n",
    "            numerator += 1\n",
    "    \n",
    "    jaccard_similarity = numerator / denominator\n",
    "    print(f\"Unweighted Jaccard Similarity: {jaccard_similarity:.4f}\")\n",
    "    return (jaccard_similarity)"
   ]
  },
  {
   "cell_type": "code",
   "execution_count": 5,
   "metadata": {},
   "outputs": [],
   "source": [
    "def get_weighted_jaccard_index(col1, col2):\n",
    "    numerator = 0\n",
    "    denominator = 0\n",
    "    for i in range(len(col1)):\n",
    "        weight_diff = abs(col1[i]-col2[i])\n",
    "\n",
    "        denominator += weight_diff\n",
    "        if(col1[i] != 0 and col2[i]!= 0):\n",
    "            numerator += weight_diff\n",
    "    \n",
    "    jaccard_similarity = 1-(numerator / denominator)\n",
    "    print(f\"Weighted Jaccard Similarity: {jaccard_similarity:.4f}\")\n",
    "    return (jaccard_similarity)"
   ]
  },
  {
   "cell_type": "code",
   "execution_count": 6,
   "metadata": {},
   "outputs": [],
   "source": [
    "def generate_random_edge_weights_exp(merged, prop_zeros, avg_val):\n",
    "    out = []\n",
    "\n",
    "    for i in range(0, len(merged)):\n",
    "        missingOrNot = random.random() < prop_zeros\n",
    "\n",
    "        if(missingOrNot):\n",
    "            out.append(0)\n",
    "        else:\n",
    "            x = np.random.exponential(avg_val)\n",
    "            if 0 <= x <= 1:\n",
    "                out.append(x)\n",
    "            else:\n",
    "                out.append(0)\n",
    "    \n",
    "    return out"
   ]
  },
  {
   "cell_type": "code",
   "execution_count": 7,
   "metadata": {},
   "outputs": [],
   "source": [
    "def generate_random_edge_weights_unif(merged, prop_zeros):\n",
    "    out = []\n",
    "\n",
    "    for i in range(0, len(merged)):\n",
    "        missingOrNot = random.random() < prop_zeros\n",
    "\n",
    "        if(missingOrNot):\n",
    "            out.append(0)\n",
    "        else:\n",
    "            out.append(random.random())\n",
    "    \n",
    "    return out"
   ]
  },
  {
   "cell_type": "markdown",
   "metadata": {},
   "source": [
    "## Run analysis"
   ]
  },
  {
   "cell_type": "code",
   "execution_count": 8,
   "metadata": {},
   "outputs": [],
   "source": [
    "# Import male and female networks\n",
    "f_file_path = \"/Users/vsriram/Desktop/GxS/ddnComp_personalComputer/ddnsForDDNComp/ssDDNneg4_femaleBlock_edgeMap.tsv\"\n",
    "f_edges_df = pd.read_csv(f_file_path, sep=\"\\t\").iloc[:, :3]\n",
    "f_edges_df['Weight'] = pd.to_numeric(f_edges_df['Weight'], errors='coerce')\n",
    "\n",
    "m_file_path = \"/Users/vsriram/Desktop/GxS/ddnComp_personalComputer/ddnsForDDNComp/ssDDNneg4_maleBlock_edgeMap.tsv\"\n",
    "m_edges_df = pd.read_csv(m_file_path, sep=\"\\t\").iloc[:, :3]\n",
    "m_edges_df['Weight'] = pd.to_numeric(m_edges_df['Weight'], errors='coerce')"
   ]
  },
  {
   "cell_type": "code",
   "execution_count": 12,
   "metadata": {},
   "outputs": [],
   "source": [
    "#np.median(m_edges_df['Weight'])\n",
    "f_edges_df = f_edges_df[f_edges_df['Weight'] >= 5]\n",
    "m_edges_df = m_edges_df[m_edges_df['Weight'] >= 8]"
   ]
  },
  {
   "cell_type": "code",
   "execution_count": 13,
   "metadata": {},
   "outputs": [],
   "source": [
    "# Step 1: Compute node magnitudes\n",
    "node_weights_f = {}\n",
    "\n",
    "# Accumulate the square of weights for each node\n",
    "for _, row in f_edges_df.iterrows():\n",
    "    node_weights_f[row[\"Source\"]] = node_weights_f.get(row[\"Source\"], 0) + row[\"Weight\"]**2\n",
    "    node_weights_f[row[\"Target\"]] = node_weights_f.get(row[\"Target\"], 0) + row[\"Weight\"]**2\n",
    "\n",
    "# Take the square root to get magnitudes\n",
    "node_magnitudes_f = {node: np.sqrt(total) for node, total in node_weights_f.items()}\n"
   ]
  },
  {
   "cell_type": "code",
   "execution_count": 14,
   "metadata": {},
   "outputs": [],
   "source": [
    "# Step 1: Compute node magnitudes\n",
    "node_weights_m = {}\n",
    "\n",
    "# Accumulate the square of weights for each node\n",
    "for _, row in m_edges_df.iterrows():\n",
    "    node_weights_m[row[\"Source\"]] = node_weights_m.get(row[\"Source\"], 0) + row[\"Weight\"]**2\n",
    "    node_weights_m[row[\"Target\"]] = node_weights_m.get(row[\"Target\"], 0) + row[\"Weight\"]**2\n",
    "\n",
    "# Take the square root to get magnitudes\n",
    "node_magnitudes_m = {node: np.sqrt(total) for node, total in node_weights_m.items()}\n"
   ]
  },
  {
   "cell_type": "code",
   "execution_count": 15,
   "metadata": {},
   "outputs": [
    {
     "name": "stderr",
     "output_type": "stream",
     "text": [
      "/var/folders/lp/whkt6w9x2190qhdkgwjm3knc0000gn/T/ipykernel_78121/2739401436.py:1: SettingWithCopyWarning: \n",
      "A value is trying to be set on a copy of a slice from a DataFrame.\n",
      "Try using .loc[row_indexer,col_indexer] = value instead\n",
      "\n",
      "See the caveats in the documentation: https://pandas.pydata.org/pandas-docs/stable/user_guide/indexing.html#returning-a-view-versus-a-copy\n",
      "  f_edges_df[\"CosineSimilarity\"] = f_edges_df.apply(\n"
     ]
    }
   ],
   "source": [
    "f_edges_df[\"CosineSimilarity\"] = f_edges_df.apply(\n",
    "    calculate_cosine_similarity, axis=1, magnitudes=node_magnitudes_f\n",
    ")"
   ]
  },
  {
   "cell_type": "code",
   "execution_count": 16,
   "metadata": {},
   "outputs": [
    {
     "name": "stderr",
     "output_type": "stream",
     "text": [
      "/var/folders/lp/whkt6w9x2190qhdkgwjm3knc0000gn/T/ipykernel_78121/242790830.py:1: SettingWithCopyWarning: \n",
      "A value is trying to be set on a copy of a slice from a DataFrame.\n",
      "Try using .loc[row_indexer,col_indexer] = value instead\n",
      "\n",
      "See the caveats in the documentation: https://pandas.pydata.org/pandas-docs/stable/user_guide/indexing.html#returning-a-view-versus-a-copy\n",
      "  m_edges_df[\"CosineSimilarity\"] = m_edges_df.apply(\n"
     ]
    }
   ],
   "source": [
    "m_edges_df[\"CosineSimilarity\"] = m_edges_df.apply(\n",
    "    calculate_cosine_similarity, axis=1, magnitudes=node_magnitudes_m\n",
    ")"
   ]
  },
  {
   "cell_type": "code",
   "execution_count": 17,
   "metadata": {},
   "outputs": [
    {
     "name": "stderr",
     "output_type": "stream",
     "text": [
      "/var/folders/lp/whkt6w9x2190qhdkgwjm3knc0000gn/T/ipykernel_78121/479415589.py:3: SettingWithCopyWarning: \n",
      "A value is trying to be set on a copy of a slice from a DataFrame.\n",
      "Try using .loc[row_indexer,col_indexer] = value instead\n",
      "\n",
      "See the caveats in the documentation: https://pandas.pydata.org/pandas-docs/stable/user_guide/indexing.html#returning-a-view-versus-a-copy\n",
      "  df[\"Source\"], df[\"Target\"] = zip(*df[[\"Source\", \"Target\"]].apply(lambda x: sorted(x), axis=1))\n",
      "/var/folders/lp/whkt6w9x2190qhdkgwjm3knc0000gn/T/ipykernel_78121/479415589.py:3: SettingWithCopyWarning: \n",
      "A value is trying to be set on a copy of a slice from a DataFrame.\n",
      "Try using .loc[row_indexer,col_indexer] = value instead\n",
      "\n",
      "See the caveats in the documentation: https://pandas.pydata.org/pandas-docs/stable/user_guide/indexing.html#returning-a-view-versus-a-copy\n",
      "  df[\"Source\"], df[\"Target\"] = zip(*df[[\"Source\", \"Target\"]].apply(lambda x: sorted(x), axis=1))\n"
     ]
    }
   ],
   "source": [
    "normalized_edges_f = normalize_edges(f_edges_df)\n",
    "normalized_edges_m = normalize_edges(m_edges_df)"
   ]
  },
  {
   "cell_type": "code",
   "execution_count": 18,
   "metadata": {},
   "outputs": [],
   "source": [
    "merged = pd.merge(\n",
    "    normalized_edges_f, \n",
    "    normalized_edges_m, \n",
    "    on=[\"Source\", \"Target\"], how=\"outer\", suffixes=(\"_F\", \"_M\")\n",
    ")"
   ]
  },
  {
   "cell_type": "code",
   "execution_count": 19,
   "metadata": {},
   "outputs": [],
   "source": [
    "# Step 3: Fill missing weights with 0\n",
    "merged[\"CosineSimilarity_F\"] = merged[\"CosineSimilarity_F\"].fillna(0)\n",
    "merged[\"CosineSimilarity_M\"] = merged[\"CosineSimilarity_M\"].fillna(0)"
   ]
  },
  {
   "cell_type": "code",
   "execution_count": 20,
   "metadata": {},
   "outputs": [],
   "source": [
    "# Step 4: Calculate min and max weights for each edge\n",
    "merged[\"WeightDiff\"] = abs(merged[\"CosineSimilarity_F\"]-merged[\"CosineSimilarity_M\"])"
   ]
  },
  {
   "cell_type": "code",
   "execution_count": 21,
   "metadata": {},
   "outputs": [],
   "source": [
    "rand_edge_weights_f_exp = generate_random_edge_weights_exp(\n",
    "    merged,\n",
    "    merged['CosineSimilarity_F'].value_counts().get(0, 0)/len(merged), \n",
    "    np.mean(merged['CosineSimilarity_F'])\n",
    ")\n",
    "\n",
    "rand_edge_weights_m_exp = generate_random_edge_weights_exp(\n",
    "    merged,\n",
    "    merged['CosineSimilarity_M'].value_counts().get(0, 0)/len(merged), \n",
    "    np.mean(merged['CosineSimilarity_M'])\n",
    ")"
   ]
  },
  {
   "cell_type": "code",
   "execution_count": 22,
   "metadata": {},
   "outputs": [],
   "source": [
    "rand_edge_weights_f_unif = generate_random_edge_weights_unif(\n",
    "    merged,\n",
    "    merged['CosineSimilarity_F'].value_counts().get(0, 0)/len(merged), \n",
    ")\n",
    "\n",
    "rand_edge_weights_m_unif = generate_random_edge_weights_unif(\n",
    "    merged,\n",
    "    merged['CosineSimilarity_M'].value_counts().get(0, 0)/len(merged), \n",
    ")"
   ]
  },
  {
   "cell_type": "code",
   "execution_count": 23,
   "metadata": {},
   "outputs": [
    {
     "name": "stdout",
     "output_type": "stream",
     "text": [
      "Weighted Jaccard Similarity: 0.8575\n"
     ]
    },
    {
     "data": {
      "text/plain": [
       "0.857530970196437"
      ]
     },
     "execution_count": 23,
     "metadata": {},
     "output_type": "execute_result"
    }
   ],
   "source": [
    "get_weighted_jaccard_index(merged['CosineSimilarity_F'], merged['CosineSimilarity_M'])"
   ]
  },
  {
   "cell_type": "code",
   "execution_count": 24,
   "metadata": {},
   "outputs": [
    {
     "name": "stdout",
     "output_type": "stream",
     "text": [
      "Unweighted Jaccard Similarity: 0.3021\n"
     ]
    },
    {
     "data": {
      "text/plain": [
       "0.30214424951267055"
      ]
     },
     "execution_count": 24,
     "metadata": {},
     "output_type": "execute_result"
    }
   ],
   "source": [
    "get_jaccard_index(merged['CosineSimilarity_F'], merged['CosineSimilarity_M'])"
   ]
  },
  {
   "cell_type": "code",
   "execution_count": 25,
   "metadata": {},
   "outputs": [
    {
     "name": "stdout",
     "output_type": "stream",
     "text": [
      "Weighted Jaccard Similarity: 0.4745\n",
      "Weighted Jaccard Similarity: 0.5479\n",
      "Unweighted Jaccard Similarity: 0.4308\n",
      "Unweighted Jaccard Similarity: 0.4815\n",
      "Weighted Jaccard Similarity: 0.4689\n",
      "Weighted Jaccard Similarity: 0.5941\n",
      "Unweighted Jaccard Similarity: 0.4639\n",
      "Unweighted Jaccard Similarity: 0.4620\n",
      "Weighted Jaccard Similarity: 0.5088\n",
      "Weighted Jaccard Similarity: 0.6182\n",
      "Unweighted Jaccard Similarity: 0.3879\n",
      "Unweighted Jaccard Similarity: 0.4016\n",
      "Weighted Jaccard Similarity: 0.5506\n",
      "Weighted Jaccard Similarity: 0.6335\n",
      "Unweighted Jaccard Similarity: 0.3977\n",
      "Unweighted Jaccard Similarity: 0.4113\n",
      "Weighted Jaccard Similarity: 0.5093\n",
      "Weighted Jaccard Similarity: 0.6391\n",
      "Unweighted Jaccard Similarity: 0.4250\n",
      "Unweighted Jaccard Similarity: 0.3899\n",
      "Weighted Jaccard Similarity: 0.5018\n",
      "Weighted Jaccard Similarity: 0.6267\n",
      "Unweighted Jaccard Similarity: 0.4678\n",
      "Unweighted Jaccard Similarity: 0.4094\n",
      "Weighted Jaccard Similarity: 0.4928\n",
      "Weighted Jaccard Similarity: 0.6347\n",
      "Unweighted Jaccard Similarity: 0.4094\n",
      "Unweighted Jaccard Similarity: 0.4288\n",
      "Weighted Jaccard Similarity: 0.5120\n",
      "Weighted Jaccard Similarity: 0.6463\n",
      "Unweighted Jaccard Similarity: 0.4230\n",
      "Unweighted Jaccard Similarity: 0.3977\n",
      "Weighted Jaccard Similarity: 0.5185\n",
      "Weighted Jaccard Similarity: 0.6423\n",
      "Unweighted Jaccard Similarity: 0.4405\n",
      "Unweighted Jaccard Similarity: 0.4016\n",
      "Weighted Jaccard Similarity: 0.5254\n",
      "Weighted Jaccard Similarity: 0.6164\n",
      "Unweighted Jaccard Similarity: 0.4405\n",
      "Unweighted Jaccard Similarity: 0.4113\n",
      "Weighted Jaccard Similarity: 0.4367\n",
      "Weighted Jaccard Similarity: 0.5713\n",
      "Unweighted Jaccard Similarity: 0.4327\n",
      "Unweighted Jaccard Similarity: 0.4483\n",
      "Weighted Jaccard Similarity: 0.5232\n",
      "Weighted Jaccard Similarity: 0.6420\n",
      "Unweighted Jaccard Similarity: 0.4347\n",
      "Unweighted Jaccard Similarity: 0.4191\n",
      "Weighted Jaccard Similarity: 0.4728\n",
      "Weighted Jaccard Similarity: 0.6233\n",
      "Unweighted Jaccard Similarity: 0.4425\n",
      "Unweighted Jaccard Similarity: 0.4074\n",
      "Weighted Jaccard Similarity: 0.4442\n",
      "Weighted Jaccard Similarity: 0.6187\n",
      "Unweighted Jaccard Similarity: 0.4288\n",
      "Unweighted Jaccard Similarity: 0.4425\n",
      "Weighted Jaccard Similarity: 0.5191\n",
      "Weighted Jaccard Similarity: 0.6604\n",
      "Unweighted Jaccard Similarity: 0.4055\n",
      "Unweighted Jaccard Similarity: 0.3860\n",
      "Weighted Jaccard Similarity: 0.5132\n",
      "Weighted Jaccard Similarity: 0.6104\n",
      "Unweighted Jaccard Similarity: 0.4230\n",
      "Unweighted Jaccard Similarity: 0.4191\n",
      "Weighted Jaccard Similarity: 0.4730\n",
      "Weighted Jaccard Similarity: 0.5838\n",
      "Unweighted Jaccard Similarity: 0.4055\n",
      "Unweighted Jaccard Similarity: 0.4561\n",
      "Weighted Jaccard Similarity: 0.5251\n",
      "Weighted Jaccard Similarity: 0.6125\n",
      "Unweighted Jaccard Similarity: 0.4288\n",
      "Unweighted Jaccard Similarity: 0.4269\n",
      "Weighted Jaccard Similarity: 0.4859\n",
      "Weighted Jaccard Similarity: 0.5871\n",
      "Unweighted Jaccard Similarity: 0.4250\n",
      "Unweighted Jaccard Similarity: 0.4698\n",
      "Weighted Jaccard Similarity: 0.5232\n",
      "Weighted Jaccard Similarity: 0.6089\n",
      "Unweighted Jaccard Similarity: 0.3996\n",
      "Unweighted Jaccard Similarity: 0.4211\n",
      "Weighted Jaccard Similarity: 0.4429\n",
      "Weighted Jaccard Similarity: 0.5831\n",
      "Unweighted Jaccard Similarity: 0.4347\n",
      "Unweighted Jaccard Similarity: 0.4444\n",
      "Weighted Jaccard Similarity: 0.4930\n",
      "Weighted Jaccard Similarity: 0.6272\n",
      "Unweighted Jaccard Similarity: 0.3977\n",
      "Unweighted Jaccard Similarity: 0.3977\n",
      "Weighted Jaccard Similarity: 0.4819\n",
      "Weighted Jaccard Similarity: 0.6104\n",
      "Unweighted Jaccard Similarity: 0.4386\n",
      "Unweighted Jaccard Similarity: 0.4386\n",
      "Weighted Jaccard Similarity: 0.5665\n",
      "Weighted Jaccard Similarity: 0.6600\n",
      "Unweighted Jaccard Similarity: 0.4172\n",
      "Unweighted Jaccard Similarity: 0.4172\n",
      "Weighted Jaccard Similarity: 0.4709\n",
      "Weighted Jaccard Similarity: 0.6075\n",
      "Unweighted Jaccard Similarity: 0.4269\n",
      "Unweighted Jaccard Similarity: 0.4191\n",
      "Weighted Jaccard Similarity: 0.5340\n",
      "Weighted Jaccard Similarity: 0.5996\n",
      "Unweighted Jaccard Similarity: 0.4425\n",
      "Unweighted Jaccard Similarity: 0.4405\n",
      "Weighted Jaccard Similarity: 0.5257\n",
      "Weighted Jaccard Similarity: 0.5888\n",
      "Unweighted Jaccard Similarity: 0.4444\n",
      "Unweighted Jaccard Similarity: 0.4405\n",
      "Weighted Jaccard Similarity: 0.4913\n",
      "Weighted Jaccard Similarity: 0.6201\n",
      "Unweighted Jaccard Similarity: 0.4269\n",
      "Unweighted Jaccard Similarity: 0.4308\n",
      "Weighted Jaccard Similarity: 0.5227\n",
      "Weighted Jaccard Similarity: 0.5310\n",
      "Unweighted Jaccard Similarity: 0.4191\n",
      "Unweighted Jaccard Similarity: 0.4639\n",
      "Weighted Jaccard Similarity: 0.4614\n",
      "Weighted Jaccard Similarity: 0.6496\n",
      "Unweighted Jaccard Similarity: 0.4522\n",
      "Unweighted Jaccard Similarity: 0.4230\n",
      "Weighted Jaccard Similarity: 0.5716\n",
      "Weighted Jaccard Similarity: 0.5941\n",
      "Unweighted Jaccard Similarity: 0.3879\n",
      "Unweighted Jaccard Similarity: 0.4639\n",
      "Weighted Jaccard Similarity: 0.5048\n",
      "Weighted Jaccard Similarity: 0.6191\n",
      "Unweighted Jaccard Similarity: 0.4405\n",
      "Unweighted Jaccard Similarity: 0.4269\n",
      "Weighted Jaccard Similarity: 0.5050\n",
      "Weighted Jaccard Similarity: 0.6332\n",
      "Unweighted Jaccard Similarity: 0.4425\n",
      "Unweighted Jaccard Similarity: 0.4113\n",
      "Weighted Jaccard Similarity: 0.4929\n",
      "Weighted Jaccard Similarity: 0.6431\n",
      "Unweighted Jaccard Similarity: 0.4055\n",
      "Unweighted Jaccard Similarity: 0.4327\n",
      "Weighted Jaccard Similarity: 0.5112\n",
      "Weighted Jaccard Similarity: 0.6200\n",
      "Unweighted Jaccard Similarity: 0.4308\n",
      "Unweighted Jaccard Similarity: 0.4172\n",
      "Weighted Jaccard Similarity: 0.4828\n",
      "Weighted Jaccard Similarity: 0.6201\n",
      "Unweighted Jaccard Similarity: 0.4288\n",
      "Unweighted Jaccard Similarity: 0.4133\n",
      "Weighted Jaccard Similarity: 0.5079\n",
      "Weighted Jaccard Similarity: 0.6212\n",
      "Unweighted Jaccard Similarity: 0.4561\n",
      "Unweighted Jaccard Similarity: 0.4308\n",
      "Weighted Jaccard Similarity: 0.5002\n",
      "Weighted Jaccard Similarity: 0.6391\n",
      "Unweighted Jaccard Similarity: 0.4211\n",
      "Unweighted Jaccard Similarity: 0.4016\n",
      "Weighted Jaccard Similarity: 0.5027\n",
      "Weighted Jaccard Similarity: 0.6390\n",
      "Unweighted Jaccard Similarity: 0.4288\n",
      "Unweighted Jaccard Similarity: 0.4094\n",
      "Weighted Jaccard Similarity: 0.5167\n",
      "Weighted Jaccard Similarity: 0.5800\n",
      "Unweighted Jaccard Similarity: 0.4288\n",
      "Unweighted Jaccard Similarity: 0.4600\n",
      "Weighted Jaccard Similarity: 0.5261\n",
      "Weighted Jaccard Similarity: 0.5497\n",
      "Unweighted Jaccard Similarity: 0.3938\n",
      "Unweighted Jaccard Similarity: 0.4561\n",
      "Weighted Jaccard Similarity: 0.4787\n",
      "Weighted Jaccard Similarity: 0.5982\n",
      "Unweighted Jaccard Similarity: 0.4288\n",
      "Unweighted Jaccard Similarity: 0.4600\n",
      "Weighted Jaccard Similarity: 0.4833\n",
      "Weighted Jaccard Similarity: 0.6578\n",
      "Unweighted Jaccard Similarity: 0.4522\n",
      "Unweighted Jaccard Similarity: 0.3762\n",
      "Weighted Jaccard Similarity: 0.5108\n",
      "Weighted Jaccard Similarity: 0.6636\n",
      "Unweighted Jaccard Similarity: 0.3977\n",
      "Unweighted Jaccard Similarity: 0.3899\n",
      "Weighted Jaccard Similarity: 0.4944\n",
      "Weighted Jaccard Similarity: 0.6140\n",
      "Unweighted Jaccard Similarity: 0.4444\n",
      "Unweighted Jaccard Similarity: 0.4113\n",
      "Weighted Jaccard Similarity: 0.5435\n",
      "Weighted Jaccard Similarity: 0.6190\n",
      "Unweighted Jaccard Similarity: 0.4113\n",
      "Unweighted Jaccard Similarity: 0.4191\n",
      "Weighted Jaccard Similarity: 0.5035\n",
      "Weighted Jaccard Similarity: 0.6169\n",
      "Unweighted Jaccard Similarity: 0.4074\n",
      "Unweighted Jaccard Similarity: 0.4347\n",
      "Weighted Jaccard Similarity: 0.5351\n",
      "Weighted Jaccard Similarity: 0.5799\n",
      "Unweighted Jaccard Similarity: 0.4464\n",
      "Unweighted Jaccard Similarity: 0.4444\n",
      "Weighted Jaccard Similarity: 0.5422\n",
      "Weighted Jaccard Similarity: 0.5754\n",
      "Unweighted Jaccard Similarity: 0.4172\n",
      "Unweighted Jaccard Similarity: 0.4405\n",
      "Weighted Jaccard Similarity: 0.4942\n",
      "Weighted Jaccard Similarity: 0.6606\n",
      "Unweighted Jaccard Similarity: 0.4308\n",
      "Unweighted Jaccard Similarity: 0.3762\n",
      "Weighted Jaccard Similarity: 0.4960\n",
      "Weighted Jaccard Similarity: 0.6478\n",
      "Unweighted Jaccard Similarity: 0.4600\n",
      "Unweighted Jaccard Similarity: 0.4152\n",
      "Weighted Jaccard Similarity: 0.4975\n",
      "Weighted Jaccard Similarity: 0.5908\n",
      "Unweighted Jaccard Similarity: 0.4522\n",
      "Unweighted Jaccard Similarity: 0.4288\n",
      "Weighted Jaccard Similarity: 0.4675\n",
      "Weighted Jaccard Similarity: 0.6213\n",
      "Unweighted Jaccard Similarity: 0.4172\n",
      "Unweighted Jaccard Similarity: 0.3957\n",
      "Weighted Jaccard Similarity: 0.4843\n",
      "Weighted Jaccard Similarity: 0.5854\n",
      "Unweighted Jaccard Similarity: 0.4366\n",
      "Unweighted Jaccard Similarity: 0.4347\n",
      "Weighted Jaccard Similarity: 0.5076\n",
      "Weighted Jaccard Similarity: 0.6438\n",
      "Unweighted Jaccard Similarity: 0.3996\n",
      "Unweighted Jaccard Similarity: 0.4094\n",
      "Weighted Jaccard Similarity: 0.5169\n",
      "Weighted Jaccard Similarity: 0.6040\n",
      "Unweighted Jaccard Similarity: 0.4211\n",
      "Unweighted Jaccard Similarity: 0.4172\n",
      "Weighted Jaccard Similarity: 0.5001\n",
      "Weighted Jaccard Similarity: 0.6444\n",
      "Unweighted Jaccard Similarity: 0.4172\n",
      "Unweighted Jaccard Similarity: 0.4035\n",
      "Weighted Jaccard Similarity: 0.5234\n",
      "Weighted Jaccard Similarity: 0.5774\n",
      "Unweighted Jaccard Similarity: 0.4094\n",
      "Unweighted Jaccard Similarity: 0.4503\n",
      "Weighted Jaccard Similarity: 0.5479\n",
      "Weighted Jaccard Similarity: 0.6037\n",
      "Unweighted Jaccard Similarity: 0.4308\n",
      "Unweighted Jaccard Similarity: 0.4211\n",
      "Weighted Jaccard Similarity: 0.5239\n",
      "Weighted Jaccard Similarity: 0.6494\n",
      "Unweighted Jaccard Similarity: 0.3840\n",
      "Unweighted Jaccard Similarity: 0.4016\n",
      "Weighted Jaccard Similarity: 0.5377\n",
      "Weighted Jaccard Similarity: 0.6447\n",
      "Unweighted Jaccard Similarity: 0.3957\n",
      "Unweighted Jaccard Similarity: 0.4094\n",
      "Weighted Jaccard Similarity: 0.4862\n",
      "Weighted Jaccard Similarity: 0.6055\n",
      "Unweighted Jaccard Similarity: 0.4327\n",
      "Unweighted Jaccard Similarity: 0.4464\n",
      "Weighted Jaccard Similarity: 0.5595\n",
      "Weighted Jaccard Similarity: 0.5943\n",
      "Unweighted Jaccard Similarity: 0.4133\n",
      "Unweighted Jaccard Similarity: 0.4250\n",
      "Weighted Jaccard Similarity: 0.4886\n",
      "Weighted Jaccard Similarity: 0.6405\n",
      "Unweighted Jaccard Similarity: 0.4503\n",
      "Unweighted Jaccard Similarity: 0.3918\n",
      "Weighted Jaccard Similarity: 0.5554\n",
      "Weighted Jaccard Similarity: 0.6479\n",
      "Unweighted Jaccard Similarity: 0.4094\n",
      "Unweighted Jaccard Similarity: 0.4288\n",
      "Weighted Jaccard Similarity: 0.5213\n",
      "Weighted Jaccard Similarity: 0.6430\n",
      "Unweighted Jaccard Similarity: 0.4055\n",
      "Unweighted Jaccard Similarity: 0.4113\n",
      "Weighted Jaccard Similarity: 0.5419\n",
      "Weighted Jaccard Similarity: 0.6238\n",
      "Unweighted Jaccard Similarity: 0.4366\n",
      "Unweighted Jaccard Similarity: 0.3899\n",
      "Weighted Jaccard Similarity: 0.4164\n",
      "Weighted Jaccard Similarity: 0.6511\n",
      "Unweighted Jaccard Similarity: 0.4269\n",
      "Unweighted Jaccard Similarity: 0.4133\n",
      "Weighted Jaccard Similarity: 0.5077\n",
      "Weighted Jaccard Similarity: 0.6195\n",
      "Unweighted Jaccard Similarity: 0.4230\n",
      "Unweighted Jaccard Similarity: 0.4386\n",
      "Weighted Jaccard Similarity: 0.4418\n",
      "Weighted Jaccard Similarity: 0.5992\n",
      "Unweighted Jaccard Similarity: 0.4581\n",
      "Unweighted Jaccard Similarity: 0.4230\n",
      "Weighted Jaccard Similarity: 0.4862\n",
      "Weighted Jaccard Similarity: 0.6530\n",
      "Unweighted Jaccard Similarity: 0.4347\n",
      "Unweighted Jaccard Similarity: 0.4133\n",
      "Weighted Jaccard Similarity: 0.5160\n",
      "Weighted Jaccard Similarity: 0.5874\n",
      "Unweighted Jaccard Similarity: 0.4366\n",
      "Unweighted Jaccard Similarity: 0.4542\n",
      "Weighted Jaccard Similarity: 0.5311\n",
      "Weighted Jaccard Similarity: 0.6523\n",
      "Unweighted Jaccard Similarity: 0.4055\n",
      "Unweighted Jaccard Similarity: 0.3918\n",
      "Weighted Jaccard Similarity: 0.5150\n",
      "Weighted Jaccard Similarity: 0.6083\n",
      "Unweighted Jaccard Similarity: 0.4074\n",
      "Unweighted Jaccard Similarity: 0.4250\n",
      "Weighted Jaccard Similarity: 0.5390\n",
      "Weighted Jaccard Similarity: 0.6543\n",
      "Unweighted Jaccard Similarity: 0.4191\n",
      "Unweighted Jaccard Similarity: 0.4016\n",
      "Weighted Jaccard Similarity: 0.5588\n",
      "Weighted Jaccard Similarity: 0.6088\n",
      "Unweighted Jaccard Similarity: 0.3860\n",
      "Unweighted Jaccard Similarity: 0.4464\n",
      "Weighted Jaccard Similarity: 0.5247\n",
      "Weighted Jaccard Similarity: 0.5369\n",
      "Unweighted Jaccard Similarity: 0.4269\n",
      "Unweighted Jaccard Similarity: 0.4756\n",
      "Weighted Jaccard Similarity: 0.5360\n",
      "Weighted Jaccard Similarity: 0.6089\n",
      "Unweighted Jaccard Similarity: 0.4211\n",
      "Unweighted Jaccard Similarity: 0.4483\n",
      "Weighted Jaccard Similarity: 0.5000\n",
      "Weighted Jaccard Similarity: 0.6222\n",
      "Unweighted Jaccard Similarity: 0.4074\n",
      "Unweighted Jaccard Similarity: 0.4016\n",
      "Weighted Jaccard Similarity: 0.5062\n",
      "Weighted Jaccard Similarity: 0.5934\n",
      "Unweighted Jaccard Similarity: 0.4347\n",
      "Unweighted Jaccard Similarity: 0.4230\n",
      "Weighted Jaccard Similarity: 0.5361\n",
      "Weighted Jaccard Similarity: 0.5996\n",
      "Unweighted Jaccard Similarity: 0.4211\n",
      "Unweighted Jaccard Similarity: 0.4386\n",
      "Weighted Jaccard Similarity: 0.5146\n",
      "Weighted Jaccard Similarity: 0.6352\n",
      "Unweighted Jaccard Similarity: 0.4230\n",
      "Unweighted Jaccard Similarity: 0.3957\n",
      "Weighted Jaccard Similarity: 0.5476\n",
      "Weighted Jaccard Similarity: 0.6088\n",
      "Unweighted Jaccard Similarity: 0.3977\n",
      "Unweighted Jaccard Similarity: 0.4503\n",
      "Weighted Jaccard Similarity: 0.4912\n",
      "Weighted Jaccard Similarity: 0.6364\n",
      "Unweighted Jaccard Similarity: 0.4464\n",
      "Unweighted Jaccard Similarity: 0.4308\n",
      "Weighted Jaccard Similarity: 0.4815\n",
      "Weighted Jaccard Similarity: 0.6164\n",
      "Unweighted Jaccard Similarity: 0.4366\n",
      "Unweighted Jaccard Similarity: 0.4327\n",
      "Weighted Jaccard Similarity: 0.5022\n",
      "Weighted Jaccard Similarity: 0.5743\n",
      "Unweighted Jaccard Similarity: 0.4113\n",
      "Unweighted Jaccard Similarity: 0.4620\n",
      "Weighted Jaccard Similarity: 0.4645\n",
      "Weighted Jaccard Similarity: 0.6237\n",
      "Unweighted Jaccard Similarity: 0.4561\n",
      "Unweighted Jaccard Similarity: 0.4366\n",
      "Weighted Jaccard Similarity: 0.4795\n",
      "Weighted Jaccard Similarity: 0.6677\n",
      "Unweighted Jaccard Similarity: 0.4425\n",
      "Unweighted Jaccard Similarity: 0.3977\n",
      "Weighted Jaccard Similarity: 0.4264\n",
      "Weighted Jaccard Similarity: 0.6355\n",
      "Unweighted Jaccard Similarity: 0.4678\n",
      "Unweighted Jaccard Similarity: 0.4035\n",
      "Weighted Jaccard Similarity: 0.5320\n",
      "Weighted Jaccard Similarity: 0.5934\n",
      "Unweighted Jaccard Similarity: 0.4211\n",
      "Unweighted Jaccard Similarity: 0.4074\n",
      "Weighted Jaccard Similarity: 0.4997\n",
      "Weighted Jaccard Similarity: 0.6079\n",
      "Unweighted Jaccard Similarity: 0.4211\n",
      "Unweighted Jaccard Similarity: 0.4288\n",
      "Weighted Jaccard Similarity: 0.4431\n",
      "Weighted Jaccard Similarity: 0.5972\n",
      "Unweighted Jaccard Similarity: 0.4698\n",
      "Unweighted Jaccard Similarity: 0.4250\n",
      "Weighted Jaccard Similarity: 0.4972\n",
      "Weighted Jaccard Similarity: 0.6071\n",
      "Unweighted Jaccard Similarity: 0.3996\n",
      "Unweighted Jaccard Similarity: 0.4483\n",
      "Weighted Jaccard Similarity: 0.5642\n",
      "Weighted Jaccard Similarity: 0.5933\n",
      "Unweighted Jaccard Similarity: 0.4016\n",
      "Unweighted Jaccard Similarity: 0.4347\n",
      "Weighted Jaccard Similarity: 0.5080\n",
      "Weighted Jaccard Similarity: 0.6558\n",
      "Unweighted Jaccard Similarity: 0.4133\n",
      "Unweighted Jaccard Similarity: 0.3957\n",
      "Weighted Jaccard Similarity: 0.4359\n",
      "Weighted Jaccard Similarity: 0.6081\n",
      "Unweighted Jaccard Similarity: 0.4464\n",
      "Unweighted Jaccard Similarity: 0.4405\n",
      "Weighted Jaccard Similarity: 0.4949\n",
      "Weighted Jaccard Similarity: 0.6214\n",
      "Unweighted Jaccard Similarity: 0.4386\n",
      "Unweighted Jaccard Similarity: 0.3996\n",
      "Weighted Jaccard Similarity: 0.5256\n",
      "Weighted Jaccard Similarity: 0.6155\n",
      "Unweighted Jaccard Similarity: 0.4269\n",
      "Unweighted Jaccard Similarity: 0.4250\n",
      "Weighted Jaccard Similarity: 0.4714\n",
      "Weighted Jaccard Similarity: 0.6410\n",
      "Unweighted Jaccard Similarity: 0.4035\n",
      "Unweighted Jaccard Similarity: 0.3899\n",
      "Weighted Jaccard Similarity: 0.5339\n",
      "Weighted Jaccard Similarity: 0.5973\n",
      "Unweighted Jaccard Similarity: 0.4211\n",
      "Unweighted Jaccard Similarity: 0.4366\n"
     ]
    }
   ],
   "source": [
    "weighted_jaccards_exp = []\n",
    "weighted_jaccards_unif = []\n",
    "unweighted_jaccards_exp = []\n",
    "unweighted_jaccards_unif = []\n",
    "\n",
    "for i in range(100):\n",
    "    rand_edge_weights_g1_exp = generate_random_edge_weights_exp(\n",
    "        merged,\n",
    "        merged['CosineSimilarity_F'].value_counts().get(0, 0)/len(merged), \n",
    "        np.mean(merged['CosineSimilarity_F'])\n",
    "    )\n",
    "\n",
    "    rand_edge_weights_g2_exp = generate_random_edge_weights_exp(\n",
    "        merged,\n",
    "        merged['CosineSimilarity_M'].value_counts().get(0, 0)/len(merged), \n",
    "        np.mean(merged['CosineSimilarity_M'])\n",
    "    )\n",
    "\n",
    "    rand_edge_weights_g1_unif = generate_random_edge_weights_unif(\n",
    "        merged,\n",
    "        merged['CosineSimilarity_F'].value_counts().get(0, 0)/len(merged), \n",
    "    )\n",
    "\n",
    "    rand_edge_weights_g2_unif = generate_random_edge_weights_unif(\n",
    "        merged,\n",
    "        merged['CosineSimilarity_M'].value_counts().get(0, 0)/len(merged), \n",
    "    )\n",
    "\n",
    "    weighted_jaccard_exp = get_weighted_jaccard_index(rand_edge_weights_g1_exp, rand_edge_weights_g2_exp)\n",
    "    weighted_jaccards_exp.append(weighted_jaccard_exp)\n",
    "\n",
    "    weighted_jaccard_unif = get_weighted_jaccard_index(rand_edge_weights_g1_unif, rand_edge_weights_g2_unif)\n",
    "    weighted_jaccards_unif.append(weighted_jaccard_unif)\n",
    "\n",
    "    unweighted_jaccard_exp = get_jaccard_index(rand_edge_weights_g1_exp, rand_edge_weights_g2_exp)\n",
    "    unweighted_jaccards_exp.append(unweighted_jaccard_exp)\n",
    "\n",
    "    unweighted_jaccard_unif = get_jaccard_index(rand_edge_weights_g1_unif, rand_edge_weights_g2_unif)\n",
    "    unweighted_jaccards_unif.append(unweighted_jaccard_unif)\n"
   ]
  },
  {
   "cell_type": "code",
   "execution_count": 35,
   "metadata": {},
   "outputs": [
    {
     "data": {
      "text/plain": [
       "0.4239766081871344"
      ]
     },
     "execution_count": 35,
     "metadata": {},
     "output_type": "execute_result"
    }
   ],
   "source": [
    "np.mean(unweighted_jaccards_unif)\n"
   ]
  },
  {
   "cell_type": "code",
   "execution_count": null,
   "metadata": {},
   "outputs": [
    {
     "data": {
      "text/plain": [
       "0.019601221044313458"
      ]
     },
     "execution_count": 34,
     "metadata": {},
     "output_type": "execute_result"
    }
   ],
   "source": [
    "np.std(unweighted_jaccards_unif)"
   ]
  },
  {
   "cell_type": "code",
   "execution_count": 28,
   "metadata": {},
   "outputs": [],
   "source": [
    "# Function to perform a t-test; is the difference between the male and female network\n",
    "#  significantly different from differences in a random population?\n",
    "def perform_statistical_analysis(original_value, random_values):\n",
    "    t_stat, p_value = ttest_1samp(random_values, original_value)\n",
    "    \n",
    "    return {\n",
    "        \"Jaccard Index\": original_value,\n",
    "        \"t_stat\": t_stat,\n",
    "        \"p_value\": p_value,\n",
    "    }"
   ]
  },
  {
   "cell_type": "code",
   "execution_count": 29,
   "metadata": {},
   "outputs": [
    {
     "name": "stdout",
     "output_type": "stream",
     "text": [
      "Weighted Jaccard Similarity: 0.8575\n"
     ]
    },
    {
     "data": {
      "text/plain": [
       "{'Jaccard Index': 0.857530970196437,\n",
       " 't_stat': -110.55775081347778,\n",
       " 'p_value': 1.5846625282082648e-105}"
      ]
     },
     "execution_count": 29,
     "metadata": {},
     "output_type": "execute_result"
    }
   ],
   "source": [
    "perform_statistical_analysis(\n",
    "    get_weighted_jaccard_index(merged['CosineSimilarity_F'], merged['CosineSimilarity_M']),\n",
    "    weighted_jaccards_exp\n",
    ")"
   ]
  },
  {
   "cell_type": "code",
   "execution_count": 30,
   "metadata": {},
   "outputs": [
    {
     "name": "stdout",
     "output_type": "stream",
     "text": [
      "Weighted Jaccard Similarity: 0.8575\n"
     ]
    },
    {
     "data": {
      "text/plain": [
       "{'Jaccard Index': 0.857530970196437,\n",
       " 't_stat': -85.12190439462705,\n",
       " 'p_value': 2.1087591484463154e-94}"
      ]
     },
     "execution_count": 30,
     "metadata": {},
     "output_type": "execute_result"
    }
   ],
   "source": [
    "perform_statistical_analysis(\n",
    "    get_weighted_jaccard_index(merged['CosineSimilarity_F'], merged['CosineSimilarity_M']),\n",
    "    weighted_jaccards_unif\n",
    ")"
   ]
  },
  {
   "cell_type": "code",
   "execution_count": 31,
   "metadata": {},
   "outputs": [
    {
     "name": "stdout",
     "output_type": "stream",
     "text": [
      "Unweighted Jaccard Similarity: 0.3021\n"
     ]
    },
    {
     "data": {
      "text/plain": [
       "{'Jaccard Index': 0.30214424951267055,\n",
       " 't_stat': 62.556378315865835,\n",
       " 'p_value': 2.110127150773194e-81}"
      ]
     },
     "execution_count": 31,
     "metadata": {},
     "output_type": "execute_result"
    }
   ],
   "source": [
    "perform_statistical_analysis(\n",
    "    get_jaccard_index(merged['CosineSimilarity_F'], merged['CosineSimilarity_M']),\n",
    "    unweighted_jaccards_exp\n",
    ")"
   ]
  },
  {
   "cell_type": "code",
   "execution_count": 32,
   "metadata": {},
   "outputs": [
    {
     "name": "stdout",
     "output_type": "stream",
     "text": [
      "Unweighted Jaccard Similarity: 0.3021\n"
     ]
    },
    {
     "data": {
      "text/plain": [
       "{'Jaccard Index': 0.30214424951267055,\n",
       " 't_stat': 52.934929218770776,\n",
       " 'p_value': 1.983591118841982e-74}"
      ]
     },
     "execution_count": 32,
     "metadata": {},
     "output_type": "execute_result"
    }
   ],
   "source": [
    "perform_statistical_analysis(\n",
    "    get_jaccard_index(merged['CosineSimilarity_F'], merged['CosineSimilarity_M']),\n",
    "    unweighted_jaccards_unif\n",
    ")"
   ]
  }
 ],
 "metadata": {
  "kernelspec": {
   "display_name": "Python 3",
   "language": "python",
   "name": "python3"
  },
  "language_info": {
   "codemirror_mode": {
    "name": "ipython",
    "version": 3
   },
   "file_extension": ".py",
   "mimetype": "text/x-python",
   "name": "python",
   "nbconvert_exporter": "python",
   "pygments_lexer": "ipython3",
   "version": "3.12.3"
  }
 },
 "nbformat": 4,
 "nbformat_minor": 4
}
